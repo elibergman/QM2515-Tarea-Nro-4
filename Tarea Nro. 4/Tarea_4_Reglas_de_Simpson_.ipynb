{
  "nbformat": 4,
  "nbformat_minor": 0,
  "metadata": {
    "colab": {
      "provenance": [],
      "authorship_tag": "ABX9TyNeU3hg5RIKVhYx1n+8GVIu",
      "include_colab_link": true
    },
    "kernelspec": {
      "name": "python3",
      "display_name": "Python 3"
    },
    "language_info": {
      "name": "python"
    }
  },
  "cells": [
    {
      "cell_type": "markdown",
      "metadata": {
        "id": "view-in-github",
        "colab_type": "text"
      },
      "source": [
        "<a href=\"https://colab.research.google.com/github/elibergman/QM2515-Tarea-Nro-4/blob/main/Tarea%20Nro.%204/Tarea_4_Reglas_de_Simpson_.ipynb\" target=\"_parent\"><img src=\"https://colab.research.google.com/assets/colab-badge.svg\" alt=\"Open In Colab\"/></a>"
      ]
    },
    {
      "cell_type": "code",
      "source": [
        "# Datos de la tabla\n",
        "x_valores = [0, 0.1, 0.2, 0.3, 0.4, 0.5]\n",
        "f_x_valores = [1, 8, 4, 3.5, 5, 1]\n",
        "\n",
        "# Calculamos Delta x\n",
        "delta_x = x_valores[1] - x_valores[0]\n",
        "\n",
        "# Aplicamos los multiplicadores correspondientes para la Regla de Simpson 1/3\n",
        "mult = [1, 4, 2, 4, 2, 1]\n",
        "\n",
        "# Calculamos la integral usando la Regla de Simpson 1/3\n",
        "def reglas_de_simpson(delta_x,x_valores,mult):\n",
        "  return (delta_x / 3) * sum(f * m for f, m in zip(f_x_valores, mult))\n",
        "\n",
        "# Resultado obtenido\n",
        "resultado = f\"La integral aproximada de los datos tabulados utilizando las reglas de Simpson es: {reglas_de_simpson(delta_x,x_valores,mult):.1f}\"\n",
        "print(resultado)\n"
      ],
      "metadata": {
        "id": "8z7GOI0bM5RT"
      },
      "execution_count": null,
      "outputs": []
    }
  ]
}