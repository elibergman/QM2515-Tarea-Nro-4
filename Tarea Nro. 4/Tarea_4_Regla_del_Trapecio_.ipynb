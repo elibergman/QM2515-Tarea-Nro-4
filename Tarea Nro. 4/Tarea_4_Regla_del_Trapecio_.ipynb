{
  "nbformat": 4,
  "nbformat_minor": 0,
  "metadata": {
    "colab": {
      "provenance": [],
      "authorship_tag": "ABX9TyOlcaAU/4c1yQaeZJK3hA2h",
      "include_colab_link": true
    },
    "kernelspec": {
      "name": "python3",
      "display_name": "Python 3"
    },
    "language_info": {
      "name": "python"
    }
  },
  "cells": [
    {
      "cell_type": "markdown",
      "metadata": {
        "id": "view-in-github",
        "colab_type": "text"
      },
      "source": [
        "<a href=\"https://colab.research.google.com/github/elibergman/QM2515-Tarea-Nro-4/blob/main/Tarea%20Nro.%204/Tarea_4_Regla_del_Trapecio_.ipynb\" target=\"_parent\"><img src=\"https://colab.research.google.com/assets/colab-badge.svg\" alt=\"Open In Colab\"/></a>"
      ]
    },
    {
      "cell_type": "code",
      "execution_count": null,
      "metadata": {
        "id": "5ocook8VFxN4"
      },
      "outputs": [],
      "source": [
        "# Datos tabulados proporcionados por el usuario\n",
        "x_valores = [0, 0.1, 0.2, 0.3, 0.4, 0.5]\n",
        "Fx_valores = [1, 8, 4, 3.5, 5, 1]\n",
        "\n",
        "# La regla del trapecio es una aproximación de la integral definida de una función.\n",
        "# Para aplicar la regla del trapecio, se utiliza la siguiente fórmula:\n",
        "# Integral ≈ h/2 * (f(x0) + 2*f(x1) + 2*f(x2) + ... + 2*f(xn-1) + f(xn))\n",
        "\n",
        "# h es la distancia entre los valores de x, que en este caso es uniforme y es 0.1\n",
        "h = 0.1\n",
        "\n",
        "# Se suma el primer y último término de los valores de F(x).\n",
        "sum_fx = Fx_valores[0] + Fx_valores[-1]\n",
        "\n",
        "# Se suman los términos intermedios, multiplicados por 2.\n",
        "sum_fx += 2 * sum(Fx_valores[1:-1])\n",
        "\n",
        "# Se aplica la fórmula de la regla del trapecio para obtener la integral aproximada.\n",
        "aproximación_de_la_integral = (h / 2) * sum_fx\n",
        "\n",
        "# Resultado con el mensaje solicitado por el usuario.\n",
        "resultado = f\"La integral aproximada de los datos tabulados utilizando la regla del trapecio es: {aproximación_de_la_integral:.2f}\"\n",
        "print(resultado)"
      ]
    }
  ]
}