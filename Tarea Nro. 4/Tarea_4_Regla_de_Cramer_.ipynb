{
  "nbformat": 4,
  "nbformat_minor": 0,
  "metadata": {
    "colab": {
      "provenance": [],
      "authorship_tag": "ABX9TyM0SJqQCZQAdpXQ15iaiG2j",
      "include_colab_link": true
    },
    "kernelspec": {
      "name": "python3",
      "display_name": "Python 3"
    },
    "language_info": {
      "name": "python"
    }
  },
  "cells": [
    {
      "cell_type": "markdown",
      "metadata": {
        "id": "view-in-github",
        "colab_type": "text"
      },
      "source": [
        "<a href=\"https://colab.research.google.com/github/elibergman/QM2515-Tarea-Nro-4/blob/main/Tarea%20Nro.%204/Tarea_4_Regla_de_Cramer_.ipynb\" target=\"_parent\"><img src=\"https://colab.research.google.com/assets/colab-badge.svg\" alt=\"Open In Colab\"/></a>"
      ]
    },
    {
      "cell_type": "code",
      "execution_count": null,
      "metadata": {
        "id": "esx_EjPqB8W7"
      },
      "outputs": [],
      "source": [
        "import numpy as np\n",
        "\n",
        "# Coeficientes del sistema de ecuaciones\n",
        "A = np.array([[0.3, 0.52, 1],\n",
        "              [0.5, 1, 1.9],\n",
        "              [0.1, 0.3, 0.5]])\n",
        "\n",
        "# Términos independientes del sistema de ecuaciones\n",
        "B = np.array([-0.01, 0.67, -0.44])\n",
        "\n",
        "# Calculamos el determinante de la matriz A\n",
        "det_A = np.linalg.det(A)\n",
        "\n",
        "# Si el determinante es cero, el sistema no tiene una única solución\n",
        "if det_A == 0:\n",
        "    print(\"El sistema no tiene una única solución.\")\n",
        "else:\n",
        "    # Calculamos los determinantes para cada variable\n",
        "    det_x1 = np.linalg.det(np.column_stack((B, A[:, 1], A[:, 2])))\n",
        "    det_x2 = np.linalg.det(np.column_stack((A[:, 0], B, A[:, 2])))\n",
        "    det_x3 = np.linalg.det(np.column_stack((A[:, 0], A[:, 1], B)))\n",
        "\n",
        "   # Calculamos las soluciones usando formateo de punto flotante con dos decimales\n",
        "    x1 = \"{:.2f}\".format(det_x1 / det_A)\n",
        "    x2 = \"{:.2f}\".format(det_x2 / det_A)\n",
        "    x3 = \"{:.2f}\".format(det_x3 / det_A)\n",
        "\n",
        "    print(f\"La solución es x1 = {x1}, x2 = {x2}, x3 = {x3}\")"
      ]
    }
  ]
}