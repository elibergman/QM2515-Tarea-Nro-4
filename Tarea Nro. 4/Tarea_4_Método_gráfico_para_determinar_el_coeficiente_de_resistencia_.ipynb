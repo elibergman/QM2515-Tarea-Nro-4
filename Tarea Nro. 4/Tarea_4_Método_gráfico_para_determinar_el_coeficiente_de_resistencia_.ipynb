{
  "nbformat": 4,
  "nbformat_minor": 0,
  "metadata": {
    "colab": {
      "provenance": [],
      "authorship_tag": "ABX9TyPLatGlwhHk57crindzK4BS",
      "include_colab_link": true
    },
    "kernelspec": {
      "name": "python3",
      "display_name": "Python 3"
    },
    "language_info": {
      "name": "python"
    }
  },
  "cells": [
    {
      "cell_type": "markdown",
      "metadata": {
        "id": "view-in-github",
        "colab_type": "text"
      },
      "source": [
        "<a href=\"https://colab.research.google.com/github/elibergman/QM2515-Tarea-Nro-4/blob/main/Tarea%20Nro.%204/Tarea_4_M%C3%A9todo_gr%C3%A1fico_para_determinar_el_coeficiente_de_resistencia_.ipynb\" target=\"_parent\"><img src=\"https://colab.research.google.com/assets/colab-badge.svg\" alt=\"Open In Colab\"/></a>"
      ]
    },
    {
      "cell_type": "code",
      "execution_count": null,
      "metadata": {
        "id": "8uVxNj4fBB9e"
      },
      "outputs": [],
      "source": [
        "import matplotlib.pyplot as plt\n",
        "import numpy as np\n",
        "\n",
        "# Datos del problema\n",
        "m = 68.1  # masa del paracaidista en kg\n",
        "g = 9.81  # aceleración de la gravedad en m/s^2\n",
        "v_terminal = 40  # velocidad terminal en m/s\n",
        "\n",
        "# Calcular el coeficiente de resistencia c\n",
        "c = m * g / v_terminal**2\n",
        "\n",
        "# Crear un rango de velocidades para el gráfico\n",
        "velocidades = np.linspace(0.1, 50, 400)  # de 0.1 m/s a 50 m/s\n",
        "coeficientes_c = m * g / velocidades**2\n",
        "\n",
        "# Graficar\n",
        "plt.figure(figsize=(10, 6))\n",
        "plt.plot(velocidades, coeficientes_c, label='Coeficiente de resistencia (c) vs Velocidad')\n",
        "plt.scatter(v_terminal, c, color='red')  # Punto específico para v_terminal\n",
        "plt.title('Coeficiente de Resistencia en función de la Velocidad')\n",
        "plt.xlabel('Velocidad (m/s)')\n",
        "plt.ylabel('Coeficiente de Resistencia (c)')\n",
        "plt.legend()\n",
        "plt.grid(True)\n",
        "plt.show()"
      ]
    }
  ]
}