{
  "nbformat": 4,
  "nbformat_minor": 0,
  "metadata": {
    "colab": {
      "provenance": [],
      "authorship_tag": "ABX9TyMAMWWsGz1vj4vALXJvVdU5",
      "include_colab_link": true
    },
    "kernelspec": {
      "name": "python3",
      "display_name": "Python 3"
    },
    "language_info": {
      "name": "python"
    }
  },
  "cells": [
    {
      "cell_type": "markdown",
      "metadata": {
        "id": "view-in-github",
        "colab_type": "text"
      },
      "source": [
        "<a href=\"https://colab.research.google.com/github/elibergman/QM2515-Tarea-Nro-4/blob/main/Tarea%20Nro.%204/Tarea_4_M%C3%A9todo_gr%C3%A1fico_para_determinar_el_coeficiente_de_resistencia_.ipynb\" target=\"_parent\"><img src=\"https://colab.research.google.com/assets/colab-badge.svg\" alt=\"Open In Colab\"/></a>"
      ]
    },
    {
      "cell_type": "code",
      "execution_count": null,
      "metadata": {
        "id": "8uVxNj4fBB9e"
      },
      "outputs": [],
      "source": [
        "import numpy as np\n",
        "from scipy.optimize import fsolve\n",
        "import matplotlib.pyplot as plt\n",
        "\n",
        "# Definición de los parámetros del problema\n",
        "m = 68.1  # Masa del paracaidista en kg\n",
        "g = 9.81  # Aceleración de la gravedad en m/s^2\n",
        "v = 40    # Velocidad final deseada en m/s\n",
        "t = 10    # Tiempo de caída en s\n",
        "\n",
        "def calcular_coeficiente_resistencia(m, g, v, t):\n",
        "\n",
        "    def ecuacion(c):\n",
        "        # La ecuación relaciona el coeficiente c con la velocidad v después de un tiempo t.\n",
        "        return g * m / c * (1 - np.exp(-c / m * t)) - v\n",
        "\n",
        "    initial_guess = 0.1\n",
        "    c_solution, = fsolve(ecuacion, initial_guess)\n",
        "\n",
        "    return c_solution\n",
        "\n",
        "# Calculo del coeficiente c\n",
        "coeficiente_c = calcular_coeficiente_resistencia(m, g, v, t)\n",
        "\n",
        "# Rango de valores de c para el gráfico\n",
        "c_range = np.linspace(0.1, 20, 400)\n",
        "\n",
        "# Cálculo de las velocidades para cada valor de c en el rango\n",
        "velocities = [g * m / c * (1 - np.exp(-c / m * t)) for c in c_range]\n",
        "\n",
        "# Configuración y creación del gráfico\n",
        "plt.figure(figsize=(10, 6))\n",
        "plt.plot(c_range, velocities, label='Velocidad v(t)', color='blue')\n",
        "plt.axhline(y=v, color='red', linestyle='--', label='Velocidad Deseada (40 m/s)')\n",
        "plt.axvline(x=coeficiente_c, color='green', linestyle='--', label=f'Coeficiente c Calculado ({coeficiente_c:.2f})')\n",
        "\n",
        "plt.title('Velocidad del paracaidista en función del coeficiente de resistencia c')\n",
        "plt.xlabel('Coeficiente de resistencia c')\n",
        "plt.ylabel('Velocidad v (m/s)')\n",
        "plt.legend()\n",
        "plt.grid(True)\n",
        "plt.show()\n",
        "\n"
      ]
    }
  ]
}